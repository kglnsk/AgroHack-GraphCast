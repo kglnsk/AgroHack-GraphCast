{
 "cells": [
  {
   "cell_type": "code",
   "execution_count": 167,
   "id": "e62e85c0",
   "metadata": {},
   "outputs": [
    {
     "name": "stdout",
     "output_type": "stream",
     "text": [
      "Maximum Water Pressure: 3167.0345307107345 Pa\n",
      "Actual Water Pressure: 2337.282472851255 Pa\n",
      "Relative Humidity: 73.80034698664086%\n"
     ]
    }
   ],
   "source": [
    "import math\n",
    "import numpy as np\n",
    "import json\n",
    "from datetime import datetime, timedelta\n",
    "\n",
    "def calculate_maximum_water_pressure(Ta):\n",
    "    return 611.21 * np.exp(17.502 * Ta / (240.97 + Ta))\n",
    "\n",
    "def calculate_actual_water_pressure(Td):\n",
    "    return 611.21 * np.exp(17.502 * Td / (240.97 + Td))\n",
    "\n",
    "def calculate_relative_humidity(Td, Ta):\n",
    "    max_water_pressure = calculate_maximum_water_pressure(Ta)\n",
    "    actual_water_pressure = calculate_actual_water_pressure(Td)\n",
    "    return 100*actual_water_pressure / max_water_pressure\n",
    "\n",
    "# Example usage:\n",
    "Ta = 25  # Replace with the actual air temperature (in degrees Celsius)\n",
    "Td = 20  # Replace with the actual dew point temperature (in degrees Celsius)\n",
    "\n",
    "max_pressure = calculate_maximum_water_pressure(Ta)\n",
    "actual_pressure = calculate_actual_water_pressure(Td)\n",
    "humidity = calculate_relative_humidity(Td, Ta)\n",
    "\n",
    "print(f\"Maximum Water Pressure: {max_pressure} Pa\")\n",
    "print(f\"Actual Water Pressure: {actual_pressure} Pa\")\n",
    "print(f\"Relative Humidity: {humidity}%\")\n"
   ]
  },
  {
   "cell_type": "code",
   "execution_count": 166,
   "id": "fadf99d3",
   "metadata": {},
   "outputs": [],
   "source": [
    "def extract_weather_data(file_path, lat, lon, start_date):\n",
    "    # Open the netCDF file\n",
    "    dataset = xr.open_dataset(file_path)\n",
    "    \n",
    "    # Select the specific location and time using nearest extrapolation\n",
    "    data = dataset.sel(latitude=lat, longitude=lon, time=slice(start_date, None), method='nearest')\n",
    "\n",
    "    # Extract the temperature and dew point data\n",
    "    temperature = data['t2m']\n",
    "    dew_point = data['d2m']\n",
    "    \n",
    "    return temperature, dew_point"
   ]
  },
  {
   "cell_type": "code",
   "execution_count": 88,
   "id": "92ad5e13-cf9e-4728-9a9c-51e54e477b68",
   "metadata": {},
   "outputs": [
    {
     "data": {
      "text/plain": [
       "45.5"
      ]
     },
     "execution_count": 88,
     "metadata": {},
     "output_type": "execute_result"
    }
   ],
   "source": [
    "lat"
   ]
  },
  {
   "cell_type": "code",
   "execution_count": 183,
   "id": "51df98c3-e57f-435f-9c64-9ce9b6f3e18c",
   "metadata": {},
   "outputs": [],
   "source": [
    "def get_threats(ds,lat,lon,time_start,disease):\n",
    "    data = ds.sel(latitude=lat, longitude=lon,method = 'nearest')\n",
    "    date_format = \"%Y-%m-%d\"\n",
    "    \n",
    "    dewpoint = data.sel(time=slice(time_start, datetime.strptime(time_start,date_format) + timedelta(days=10)))['d2m'].values.flatten()-273.15\n",
    "    temp = data.sel(time=slice(time_start, datetime.strptime(time_start, date_format) + timedelta(days=10)))['t2m'].values.flatten()-273.15\n",
    "    time = data.sel(time=slice(time_start, datetime.strptime(time_start, date_format) + timedelta(days=10)))['time'].values\n",
    "    spec_humidity = calculate_relative_humidity(dewpoint+273.15,temp+273.15)\n",
    "    threat_level = []\n",
    "# Check for onset threat levels\n",
    "    for current_temperature,current_humidity in zip(temp,spec_humidity):\n",
    "        threats = check_progression_threat(current_temperature, current_humidity)\n",
    "        indicator = threats[threats['Codename']==disease]['Progression Threat Level'].values\n",
    "        threat_level.append(indicator)\n",
    "\n",
    "    #print(threat_level)\n",
    "    threat_level = pd.DataFrame({'Threat':threat_level}).rolling(3).mean()\n",
    "    threat_level['Time'] = time\n",
    "    threat_level['Time'] = threat_level['Time'].dt.strftime('%Y-%m-%d %H:%M:%S')\n",
    "    # Convert dataframe \"df\" to dictionary\n",
    "    df_dict = threat_level.dropna(inplace = False).to_dict()\n",
    "    df_dict['disease'] = disease\n",
    "    df_dict['lat'] = lat\n",
    "    df_dict['lon'] = lon\n",
    "\n",
    "#Store the dictionary into a json string variable in memory\n",
    "    df_json = json.dumps(df_dict)\n",
    "\n",
    "    return df_json"
   ]
  },
  {
   "cell_type": "code",
   "execution_count": 182,
   "id": "f37c4ac0-2472-40c2-8412-0d1b15e70776",
   "metadata": {},
   "outputs": [
    {
     "data": {
      "text/plain": [
       "'{\"Threat\": {\"2\": 1.0, \"3\": 1.0, \"4\": 1.0, \"5\": 1.0, \"6\": 1.0, \"7\": 0.6666666666666666, \"8\": 0.3333333333333333, \"9\": 0.3333333333333333, \"10\": 0.6666666666666666, \"11\": 1.0, \"12\": 1.0, \"13\": 1.0, \"14\": 1.0, \"15\": 1.0, \"16\": 1.0, \"17\": 1.0, \"18\": 0.6666666666666666, \"19\": 0.3333333333333333, \"20\": 0.0, \"21\": 0.3333333333333333, \"22\": 0.3333333333333333, \"23\": 0.3333333333333333, \"24\": 0.0, \"25\": 0.0, \"26\": 0.3333333333333333, \"27\": 0.6666666666666666, \"28\": 1.0, \"29\": 1.0, \"30\": 1.0, \"31\": 1.0, \"32\": 1.0, \"33\": 1.0, \"34\": 1.0, \"35\": 1.0, \"36\": 1.0, \"37\": 1.0, \"38\": 0.6666666666666666, \"39\": 0.3333333333333333, \"40\": 0.3333333333333333}, \"Time\": {\"2\": \"2021-08-13 12:00:00\", \"3\": \"2021-08-13 18:00:00\", \"4\": \"2021-08-14 00:00:00\", \"5\": \"2021-08-14 06:00:00\", \"6\": \"2021-08-14 12:00:00\", \"7\": \"2021-08-14 18:00:00\", \"8\": \"2021-08-15 00:00:00\", \"9\": \"2021-08-15 06:00:00\", \"10\": \"2021-08-15 12:00:00\", \"11\": \"2021-08-15 18:00:00\", \"12\": \"2021-08-16 00:00:00\", \"13\": \"2021-08-16 06:00:00\", \"14\": \"2021-08-16 12:00:00\", \"15\": \"2021-08-16 18:00:00\", \"16\": \"2021-08-17 00:00:00\", \"17\": \"2021-08-17 06:00:00\", \"18\": \"2021-08-17 12:00:00\", \"19\": \"2021-08-17 18:00:00\", \"20\": \"2021-08-18 00:00:00\", \"21\": \"2021-08-18 06:00:00\", \"22\": \"2021-08-18 12:00:00\", \"23\": \"2021-08-18 18:00:00\", \"24\": \"2021-08-19 00:00:00\", \"25\": \"2021-08-19 06:00:00\", \"26\": \"2021-08-19 12:00:00\", \"27\": \"2021-08-19 18:00:00\", \"28\": \"2021-08-20 00:00:00\", \"29\": \"2021-08-20 06:00:00\", \"30\": \"2021-08-20 12:00:00\", \"31\": \"2021-08-20 18:00:00\", \"32\": \"2021-08-21 00:00:00\", \"33\": \"2021-08-21 06:00:00\", \"34\": \"2021-08-21 12:00:00\", \"35\": \"2021-08-21 18:00:00\", \"36\": \"2021-08-22 00:00:00\", \"37\": \"2021-08-22 06:00:00\", \"38\": \"2021-08-22 12:00:00\", \"39\": \"2021-08-22 18:00:00\", \"40\": \"2021-08-23 00:00:00\"}, \"disease\": \"mild\", \"lat\": 45.5, \"lon\": 37.5}'"
      ]
     },
     "execution_count": 182,
     "metadata": {},
     "output_type": "execute_result"
    }
   ],
   "source": [
    "(get_threats(ds,lat,lon,'2021-08-13','mild'))"
   ]
  },
  {
   "cell_type": "code",
   "execution_count": 143,
   "id": "200f3673-572b-4bcc-b1cc-29e6547de99d",
   "metadata": {},
   "outputs": [
    {
     "name": "stdout",
     "output_type": "stream",
     "text": [
      "                         Disease     Codename Temperature Onset  \\\n",
      "0                   Downy Mildew         mild                11   \n",
      "1                 Powdery Mildew       oidium                 5   \n",
      "2                    Anthracnose       anthra          (10, 15)   \n",
      "3   Gray Mold (Botrytis cinerea)         gray                12   \n",
      "4                     Black Spot    blackDots                15   \n",
      "5                      Black Rot        black                 -   \n",
      "6                      White Rot        white                14   \n",
      "7              Verticillium Wilt         vilt                 -   \n",
      "8           Alternaria Leaf Spot  alternarioz          (11, 15)   \n",
      "9                  Fusarium Wilt     fuzarioz                 1   \n",
      "10             Red Blotch (Esca)     krasnuha                11   \n",
      "11              Bacterial Cancer    bakterial                 -   \n",
      "\n",
      "   Humidity Onset Optimal Temperature Optimal Humidity  \n",
      "0       (85, 100)            (21, 25)        (93, 100)  \n",
      "1        (60, 80)            (20, 35)         (60, 80)  \n",
      "2        (70, 80)            (24, 30)         (70, 80)  \n",
      "3       (95, 100)            (25, 30)        (90, 100)  \n",
      "4        (80, 90)            (18, 20)         (80, 90)  \n",
      "5               -            (20, 25)        (90, 100)  \n",
      "6       (90, 100)            (20, 27)        (90, 100)  \n",
      "7               -            (21, 24)         (50, 60)  \n",
      "8        (80, 90)            (23, 25)         (80, 90)  \n",
      "9        (40, 80)            (13, 20)         (80, 90)  \n",
      "10       (80, 90)            (18, 20)                -  \n",
      "11              -            (25, 30)        (95, 100)  \n"
     ]
    }
   ],
   "source": [
    "import pandas as pd\n",
    "\n",
    "# Define the disease conditions in a DataFrame\n",
    "disease_conditions = pd.DataFrame({\n",
    "    'Disease': ['Downy Mildew', 'Powdery Mildew', 'Anthracnose', 'Gray Mold (Botrytis cinerea)', 'Black Spot', 'Black Rot', 'White Rot', 'Verticillium Wilt', 'Alternaria Leaf Spot', 'Fusarium Wilt', 'Red Blotch (Esca)', 'Bacterial Cancer'],\n",
    "    'Codename':['mild','oidium','anthra','gray','blackDots','black','white','vilt','alternarioz','fuzarioz','krasnuha','bakterial'],\n",
    "    'Temperature Onset': [11, 5, (10, 15), 12, 15, '-', 14, '-', (11, 15), 1, 11, '-'],\n",
    "    'Humidity Onset': [(85, 100), (60, 80), (70, 80), (95, 100), (80, 90), '-', (90, 100), '-', (80, 90), (40, 80), (80, 90), '-'],\n",
    "    'Optimal Temperature': [(21, 25), (20, 35), (24, 30), (25, 30), (18, 20), (20, 25), (20, 27), (21, 24), (23, 25), (13, 20), (18, 20), (25, 30)],\n",
    "    'Optimal Humidity': [(93,100), (60, 80), (70, 80), (90,100), (80, 90), (90,100), (90, 100), (50, 60), (80, 90), (80, 90), '-', (95, 100)]\n",
    "})\n",
    "print(disease_conditions)\n",
    "def check_range(value, range_value):\n",
    "    if isinstance(range_value, tuple):\n",
    "        return range_value[0] <= value <= range_value[1]\n",
    "    elif range_value == '-':\n",
    "        return True\n",
    "    else:\n",
    "        return value >= range_value - 2 and value <= range_value + 2\n",
    "\n",
    "def check_onset_threat(temperature, humidity):\n",
    "    onset_threat_levels = {}\n",
    "    \n",
    "    for _, disease in disease_conditions.iterrows():\n",
    "        temp_onset = check_range(temperature, disease['Temperature Onset'])\n",
    "        humi_onset = check_range(humidity, disease['Humidity Onset'])\n",
    "        \n",
    "        threat_level = temp_onset and humi_onset\n",
    "        progression_threat_levels[disease['Codename']] = 1.0 if threat_level else 0.0\n",
    "        \n",
    "    return pd.DataFrame(list(onset_threat_levels.items()), columns=['Codename', 'Onset Threat Level'])\n",
    "\n",
    "def check_progression_threat(temperature, humidity):\n",
    "    progression_threat_levels = {}\n",
    "    \n",
    "    for _, disease in disease_conditions.iterrows():\n",
    "        temp_optimal = check_range(temperature, disease['Optimal Temperature'])\n",
    "        humi_optimal = check_range(humidity, disease['Optimal Humidity'])\n",
    "        \n",
    "        threat_level = temp_optimal and humi_optimal\n",
    "        progression_threat_levels[disease['Codename']] = 1.0 if threat_level else 0.0\n",
    "        \n",
    "    return pd.DataFrame(list(progression_threat_levels.items()), columns=['Codename', 'Progression Threat Level'])\n",
    "\n",
    "# Example usage:\n",
    "\n",
    "    \n",
    "# Check for progression threat levels\n",
    "#progression_threats = check_progression_threat(current_temperature, current_humidity)\n",
    "#print(progression_threats)\n"
   ]
  },
  {
   "cell_type": "code",
   "execution_count": 86,
   "id": "03317c04-cd3a-4b32-82a8-b1e3a32c2d63",
   "metadata": {},
   "outputs": [],
   "source": [
    "threat_level.to_json('threat.json')"
   ]
  },
  {
   "cell_type": "code",
   "execution_count": 84,
   "id": "ae9f5b00-fcc3-4d52-a7fe-d2dbb7a68ea2",
   "metadata": {},
   "outputs": [
    {
     "data": {
      "image/png": "[encoded data removed]",
      "text/plain": [
       "<Figure size 640x480 with 1 Axes>"
      ]
     },
     "metadata": {},
     "output_type": "display_data"
    }
   ],
   "source": [
    "plt.plot(threat_level['time'],threat_level[0])\n",
    "plt.ylabel('Уровень угрозы')\n",
    "plt.legend(['Botrytis cinerea'])\n",
    "plt.grid('on')"
   ]
  }
 ],
 "metadata": {
  "kernelspec": {
   "display_name": "Python 3 (ipykernel)",
   "language": "python",
   "name": "python3"
  },
  "language_info": {
   "codemirror_mode": {
    "name": "ipython",
    "version": 3
   },
   "file_extension": ".py",
   "mimetype": "text/x-python",
   "name": "python",
   "nbconvert_exporter": "python",
   "pygments_lexer": "ipython3",
   "version": "3.10.12"
  }
 },
 "nbformat": 4,
 "nbformat_minor": 5
}
